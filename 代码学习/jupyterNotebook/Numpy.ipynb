{
 "cells": [
  {
   "cell_type": "code",
   "execution_count": 1,
   "id": "f48d6632",
   "metadata": {},
   "outputs": [],
   "source": [
    "import numpy as np"
   ]
  },
  {
   "cell_type": "markdown",
   "id": "161db5b3",
   "metadata": {},
   "source": [
    "## 二元运算"
   ]
  },
  {
   "cell_type": "code",
   "execution_count": 2,
   "id": "e4e4015c",
   "metadata": {},
   "outputs": [
    {
     "data": {
      "text/plain": [
       "array([1, 2, 3, 4])"
      ]
     },
     "execution_count": 2,
     "metadata": {},
     "output_type": "execute_result"
    }
   ],
   "source": [
    "a = np.array([1, 2, 3, 4])\n",
    "a"
   ]
  },
  {
   "cell_type": "code",
   "execution_count": 3,
   "id": "c939f853",
   "metadata": {},
   "outputs": [
    {
     "data": {
      "text/plain": [
       "array([2, 3, 4, 5])"
      ]
     },
     "execution_count": 3,
     "metadata": {},
     "output_type": "execute_result"
    }
   ],
   "source": [
    "a + 1"
   ]
  },
  {
   "cell_type": "code",
   "execution_count": 4,
   "id": "7ba96911",
   "metadata": {},
   "outputs": [
    {
     "data": {
      "text/plain": [
       "array([2, 3, 4, 5])"
      ]
     },
     "execution_count": 4,
     "metadata": {},
     "output_type": "execute_result"
    }
   ],
   "source": [
    "b = np.array([2, 3, 4 ,5])\n",
    "b"
   ]
  },
  {
   "cell_type": "code",
   "execution_count": 5,
   "id": "41a91ba5",
   "metadata": {},
   "outputs": [
    {
     "data": {
      "text/plain": [
       "array([ 2,  6, 12, 20])"
      ]
     },
     "execution_count": 5,
     "metadata": {},
     "output_type": "execute_result"
    }
   ],
   "source": [
    "a * b"
   ]
  },
  {
   "cell_type": "code",
   "execution_count": 6,
   "id": "b046c87e",
   "metadata": {},
   "outputs": [
    {
     "data": {
      "text/plain": [
       "array([3, 5, 7, 9])"
      ]
     },
     "execution_count": 6,
     "metadata": {},
     "output_type": "execute_result"
    }
   ],
   "source": [
    "a + b"
   ]
  },
  {
   "cell_type": "code",
   "execution_count": 7,
   "id": "678b9a3a",
   "metadata": {},
   "outputs": [
    {
     "data": {
      "text/plain": [
       "array([False, False,  True,  True])"
      ]
     },
     "execution_count": 7,
     "metadata": {},
     "output_type": "execute_result"
    }
   ],
   "source": [
    "a > 2"
   ]
  },
  {
   "cell_type": "markdown",
   "id": "d1fc5328",
   "metadata": {},
   "source": [
    "## 产生`numpy`数组"
   ]
  },
  {
   "cell_type": "code",
   "execution_count": 8,
   "id": "b7166d3d",
   "metadata": {},
   "outputs": [
    {
     "data": {
      "text/plain": [
       "array([2, 3, 4])"
      ]
     },
     "execution_count": 8,
     "metadata": {},
     "output_type": "execute_result"
    }
   ],
   "source": [
    "a = np.array([2, 3, 4])\n",
    "a"
   ]
  },
  {
   "cell_type": "markdown",
   "id": "b30b45c0",
   "metadata": {},
   "source": [
    "1. 产生全0、全1数组"
   ]
  },
  {
   "cell_type": "code",
   "execution_count": 9,
   "id": "0c1e827a",
   "metadata": {},
   "outputs": [
    {
     "name": "stdout",
     "output_type": "stream",
     "text": [
      "[0. 0. 0. 0. 0.]\n",
      "[1. 1. 1. 1. 1. 1.]\n"
     ]
    }
   ],
   "source": [
    "z = np.zeros(5)\n",
    "t = np.ones(6)\n",
    "print(z)\n",
    "print(t)"
   ]
  },
  {
   "cell_type": "markdown",
   "id": "db0f45d8",
   "metadata": {},
   "source": [
    "2. `dtype`指定数据类型"
   ]
  },
  {
   "cell_type": "code",
   "execution_count": 10,
   "id": "0c77b6dc",
   "metadata": {},
   "outputs": [
    {
     "data": {
      "text/plain": [
       "array([False, False, False, False, False])"
      ]
     },
     "execution_count": 10,
     "metadata": {},
     "output_type": "execute_result"
    }
   ],
   "source": [
    "np.zeros(5, dtype='bool')"
   ]
  },
  {
   "cell_type": "markdown",
   "id": "3df498a9",
   "metadata": {},
   "source": [
    "3. `fill` 设置指定值"
   ]
  },
  {
   "cell_type": "code",
   "execution_count": 11,
   "id": "dbc70c14",
   "metadata": {},
   "outputs": [
    {
     "name": "stdout",
     "output_type": "stream",
     "text": [
      "[2 3 4]\n"
     ]
    },
    {
     "data": {
      "text/plain": [
       "array([10, 10, 10])"
      ]
     },
     "execution_count": 11,
     "metadata": {},
     "output_type": "execute_result"
    }
   ],
   "source": [
    "print(a)\n",
    "a.fill(10)\n",
    "a"
   ]
  },
  {
   "cell_type": "markdown",
   "id": "5bb13213",
   "metadata": {},
   "source": [
    "> `array`中要求所有 `dtype` 均相同"
   ]
  },
  {
   "cell_type": "markdown",
   "id": "7a94e900",
   "metadata": {},
   "source": [
    "4. 强制数据类型转换"
   ]
  },
  {
   "cell_type": "code",
   "execution_count": 12,
   "id": "00435d19",
   "metadata": {},
   "outputs": [
    {
     "name": "stdout",
     "output_type": "stream",
     "text": [
      "<class 'numpy.int32'>\n",
      "<class 'numpy.float64'>\n"
     ]
    }
   ],
   "source": [
    "a = a.astype('int')\n",
    "print(type(a[0]))\n",
    "a = a.astype('float')\n",
    "print(type(a[0]))"
   ]
  },
  {
   "cell_type": "markdown",
   "id": "86a92e5a",
   "metadata": {},
   "source": [
    "5. 产生特殊数组"
   ]
  },
  {
   "cell_type": "code",
   "execution_count": 13,
   "id": "480feb73",
   "metadata": {},
   "outputs": [
    {
     "data": {
      "text/plain": [
       "array([1, 3, 5, 7, 9])"
      ]
     },
     "execution_count": 13,
     "metadata": {},
     "output_type": "execute_result"
    }
   ],
   "source": [
    "np.arange(1, 10, 2)  # 从1到10 步长为2"
   ]
  },
  {
   "cell_type": "code",
   "execution_count": 14,
   "id": "2232e236",
   "metadata": {},
   "outputs": [
    {
     "data": {
      "text/plain": [
       "array([ 1.  ,  3.25,  5.5 ,  7.75, 10.  ])"
      ]
     },
     "execution_count": 14,
     "metadata": {},
     "output_type": "execute_result"
    }
   ],
   "source": [
    "np.linspace(1, 10, 5) # 从1 到 10 均匀取5个点"
   ]
  },
  {
   "cell_type": "markdown",
   "id": "4df4c12b",
   "metadata": {},
   "source": [
    ">作为序列生成器， numpy.linspace()函数用于在线性空间中以均匀步长生成数字序列。\n",
    "Numpy通常可以使用numpy.arange()生成序列，但是当我们使用浮点参数时，可能会导致精度损失，这可能会导致不可预测的输出。为了避免由于浮点精度而造成的任何精度损失，numpy在numpy.linspace()为我们提供了一个单独的序列生成器，如果您已经知道所需的元素数，则这是首选。 但是通常使用带有适当参数的linspace()和 arange()可以得到相同的输出，因此可以为同一任务选择两者。"
   ]
  },
  {
   "cell_type": "code",
   "execution_count": 15,
   "id": "3de1fbb6",
   "metadata": {},
   "outputs": [
    {
     "data": {
      "text/plain": [
       "array([0.01236389, 0.24589767, 0.71497189, 0.07866579, 0.18867513,\n",
       "       0.39601592, 0.73511928, 0.73429912, 0.92289115, 0.96397675])"
      ]
     },
     "execution_count": 15,
     "metadata": {},
     "output_type": "execute_result"
    }
   ],
   "source": [
    "np.random.rand(10) # 随机数"
   ]
  },
  {
   "cell_type": "code",
   "execution_count": 16,
   "id": "1d1e5568",
   "metadata": {},
   "outputs": [
    {
     "data": {
      "text/plain": [
       "array([-1.54443406e-01,  4.36963681e-01,  2.44844879e-01,  1.34187530e+00,\n",
       "       -8.84903249e-04, -1.59865356e+00, -4.96738900e-01,  2.00288232e+00,\n",
       "        2.95084437e-01,  1.32608901e+00])"
      ]
     },
     "execution_count": 16,
     "metadata": {},
     "output_type": "execute_result"
    }
   ],
   "source": [
    "np.random.randn(10)"
   ]
  },
  {
   "cell_type": "code",
   "execution_count": 17,
   "id": "1d0ce8e3",
   "metadata": {},
   "outputs": [
    {
     "data": {
      "text/plain": [
       "array([6, 7, 6, 1, 4, 8, 9, 9, 1, 8])"
      ]
     },
     "execution_count": 17,
     "metadata": {},
     "output_type": "execute_result"
    }
   ],
   "source": [
    "np.random.randint(1, 10, 10)"
   ]
  },
  {
   "cell_type": "markdown",
   "id": "865d3092",
   "metadata": {},
   "source": [
    "## 数组属性"
   ]
  },
  {
   "cell_type": "markdown",
   "id": "cb5bd703",
   "metadata": {},
   "source": [
    "1. 数组类型"
   ]
  },
  {
   "cell_type": "code",
   "execution_count": 18,
   "id": "50d92163",
   "metadata": {},
   "outputs": [
    {
     "data": {
      "text/plain": [
       "numpy.ndarray"
      ]
     },
     "execution_count": 18,
     "metadata": {},
     "output_type": "execute_result"
    }
   ],
   "source": [
    "type(a)"
   ]
  },
  {
   "cell_type": "markdown",
   "id": "64940b95",
   "metadata": {},
   "source": [
    "2. 数组元素类型"
   ]
  },
  {
   "cell_type": "code",
   "execution_count": 19,
   "id": "24df304a",
   "metadata": {},
   "outputs": [
    {
     "data": {
      "text/plain": [
       "dtype('float64')"
      ]
     },
     "execution_count": 19,
     "metadata": {},
     "output_type": "execute_result"
    }
   ],
   "source": [
    "a.dtype"
   ]
  },
  {
   "cell_type": "markdown",
   "id": "439ea9d0",
   "metadata": {},
   "source": [
    "3. 数组大小"
   ]
  },
  {
   "cell_type": "code",
   "execution_count": 20,
   "id": "aaf47155",
   "metadata": {},
   "outputs": [
    {
     "data": {
      "text/plain": [
       "3"
      ]
     },
     "execution_count": 20,
     "metadata": {},
     "output_type": "execute_result"
    }
   ],
   "source": [
    "a.size  # return tuple"
   ]
  },
  {
   "cell_type": "code",
   "execution_count": 21,
   "id": "6b7883be",
   "metadata": {},
   "outputs": [
    {
     "data": {
      "text/plain": [
       "(3,)"
      ]
     },
     "execution_count": 21,
     "metadata": {},
     "output_type": "execute_result"
    }
   ],
   "source": [
    "a.shape"
   ]
  },
  {
   "cell_type": "markdown",
   "id": "c51706e2",
   "metadata": {},
   "source": [
    "4. 数组维度"
   ]
  },
  {
   "cell_type": "code",
   "execution_count": 22,
   "id": "56d6c00d",
   "metadata": {},
   "outputs": [
    {
     "data": {
      "text/plain": [
       "1"
      ]
     },
     "execution_count": 22,
     "metadata": {},
     "output_type": "execute_result"
    }
   ],
   "source": [
    "a.ndim"
   ]
  },
  {
   "cell_type": "markdown",
   "id": "54302703",
   "metadata": {},
   "source": [
    "## 索引 切片"
   ]
  },
  {
   "cell_type": "code",
   "execution_count": 23,
   "id": "146f5876",
   "metadata": {},
   "outputs": [
    {
     "data": {
      "text/plain": [
       "array([1, 2, 3, 4, 5])"
      ]
     },
     "execution_count": 23,
     "metadata": {},
     "output_type": "execute_result"
    }
   ],
   "source": [
    "a = np.array([1, 2, 3, 4, 5])\n",
    "a"
   ]
  },
  {
   "cell_type": "markdown",
   "id": "db3b5def",
   "metadata": {},
   "source": [
    "1. 取数"
   ]
  },
  {
   "cell_type": "code",
   "execution_count": 24,
   "id": "9780a8db",
   "metadata": {},
   "outputs": [
    {
     "data": {
      "text/plain": [
       "1"
      ]
     },
     "execution_count": 24,
     "metadata": {},
     "output_type": "execute_result"
    }
   ],
   "source": [
    "a[0]"
   ]
  },
  {
   "cell_type": "markdown",
   "id": "031e7821",
   "metadata": {},
   "source": [
    "2. 切片"
   ]
  },
  {
   "cell_type": "code",
   "execution_count": 25,
   "id": "16a038c1",
   "metadata": {},
   "outputs": [
    {
     "data": {
      "text/plain": [
       "array([2, 3])"
      ]
     },
     "execution_count": 25,
     "metadata": {},
     "output_type": "execute_result"
    }
   ],
   "source": [
    "a[1:-2] # 左闭右开"
   ]
  },
  {
   "cell_type": "code",
   "execution_count": 26,
   "id": "1ff22d2f",
   "metadata": {},
   "outputs": [
    {
     "data": {
      "text/plain": [
       "array([2, 3])"
      ]
     },
     "execution_count": 26,
     "metadata": {},
     "output_type": "execute_result"
    }
   ],
   "source": [
    "a[-4:3]"
   ]
  },
  {
   "cell_type": "code",
   "execution_count": 27,
   "id": "597d6722",
   "metadata": {},
   "outputs": [
    {
     "data": {
      "text/plain": [
       "array([4, 5])"
      ]
     },
     "execution_count": 27,
     "metadata": {},
     "output_type": "execute_result"
    }
   ],
   "source": [
    "a[-2:]"
   ]
  },
  {
   "cell_type": "markdown",
   "id": "37f09fc6",
   "metadata": {},
   "source": [
    "## 多维数组"
   ]
  },
  {
   "cell_type": "code",
   "execution_count": 28,
   "id": "6989da68",
   "metadata": {},
   "outputs": [
    {
     "data": {
      "text/plain": [
       "array([[ 0,  1,  2,  3],\n",
       "       [10, 11, 12, 13]])"
      ]
     },
     "execution_count": 28,
     "metadata": {},
     "output_type": "execute_result"
    }
   ],
   "source": [
    "a = np.array(\n",
    "    [[0, 1, 2, 3],\n",
    "    [10, 11, 12, 13]]\n",
    ")\n",
    "a"
   ]
  },
  {
   "cell_type": "markdown",
   "id": "8481ef5b",
   "metadata": {},
   "source": [
    "经典属性"
   ]
  },
  {
   "cell_type": "code",
   "execution_count": 29,
   "id": "c7b9ccf9",
   "metadata": {},
   "outputs": [
    {
     "data": {
      "text/plain": [
       "(2, 4)"
      ]
     },
     "execution_count": 29,
     "metadata": {},
     "output_type": "execute_result"
    }
   ],
   "source": [
    "a.shape"
   ]
  },
  {
   "cell_type": "code",
   "execution_count": 30,
   "id": "3c231f3d",
   "metadata": {},
   "outputs": [
    {
     "data": {
      "text/plain": [
       "8"
      ]
     },
     "execution_count": 30,
     "metadata": {},
     "output_type": "execute_result"
    }
   ],
   "source": [
    "a.size"
   ]
  },
  {
   "cell_type": "code",
   "execution_count": 31,
   "id": "1fbe7b8c",
   "metadata": {},
   "outputs": [
    {
     "data": {
      "text/plain": [
       "2"
      ]
     },
     "execution_count": 31,
     "metadata": {},
     "output_type": "execute_result"
    }
   ],
   "source": [
    "a.ndim"
   ]
  },
  {
   "cell_type": "markdown",
   "id": "fe0ae59c",
   "metadata": {},
   "source": [
    "## 多维数组索引"
   ]
  },
  {
   "cell_type": "code",
   "execution_count": 32,
   "id": "41304bec",
   "metadata": {},
   "outputs": [
    {
     "data": {
      "text/plain": [
       "array([[ 0,  1,  2,  3],\n",
       "       [10, 11, 12, 13]])"
      ]
     },
     "execution_count": 32,
     "metadata": {},
     "output_type": "execute_result"
    }
   ],
   "source": [
    "a"
   ]
  },
  {
   "cell_type": "markdown",
   "id": "23aac422",
   "metadata": {},
   "source": [
    "1. 取数"
   ]
  },
  {
   "cell_type": "code",
   "execution_count": 33,
   "id": "673a7367",
   "metadata": {},
   "outputs": [
    {
     "data": {
      "text/plain": [
       "13"
      ]
     },
     "execution_count": 33,
     "metadata": {},
     "output_type": "execute_result"
    }
   ],
   "source": [
    "a[1, 3]"
   ]
  },
  {
   "cell_type": "markdown",
   "id": "9b38a926",
   "metadata": {},
   "source": [
    "2. 索引一整行"
   ]
  },
  {
   "cell_type": "code",
   "execution_count": 34,
   "id": "98ecb8b5",
   "metadata": {},
   "outputs": [
    {
     "data": {
      "text/plain": [
       "array([10, 11, 12, 13])"
      ]
     },
     "execution_count": 34,
     "metadata": {},
     "output_type": "execute_result"
    }
   ],
   "source": [
    "a[1]"
   ]
  },
  {
   "cell_type": "markdown",
   "id": "2b2d1aba",
   "metadata": {},
   "source": [
    "## 多维数组切片"
   ]
  },
  {
   "cell_type": "code",
   "execution_count": 35,
   "id": "3d844dcf",
   "metadata": {},
   "outputs": [
    {
     "data": {
      "text/plain": [
       "array([[1, 6, 3, 8, 5],\n",
       "       [7, 2, 3, 4, 5],\n",
       "       [1, 2, 3, 4, 5],\n",
       "       [9, 2, 9, 4, 5],\n",
       "       [1, 2, 3, 4, 5]])"
      ]
     },
     "execution_count": 35,
     "metadata": {},
     "output_type": "execute_result"
    }
   ],
   "source": [
    "a = np.array([\n",
    "    [1, 6, 3, 8, 5],\n",
    "    [7, 2, 3, 4, 5],\n",
    "    [1, 2, 3, 4, 5],\n",
    "    [9, 2, 9, 4, 5],\n",
    "    [1, 2, 3, 4, 5],\n",
    "    \n",
    "])\n",
    "a"
   ]
  },
  {
   "cell_type": "markdown",
   "id": "5781ded0",
   "metadata": {},
   "source": [
    "1. $a[row_{start}:row_{end}, col_{start}:col_{end}]$ "
   ]
  },
  {
   "cell_type": "code",
   "execution_count": 36,
   "id": "143e9816",
   "metadata": {},
   "outputs": [
    {
     "data": {
      "text/plain": [
       "array([[7, 2, 3],\n",
       "       [1, 2, 3],\n",
       "       [9, 2, 9]])"
      ]
     },
     "execution_count": 36,
     "metadata": {},
     "output_type": "execute_result"
    }
   ],
   "source": [
    "a[1:4, 0:3]"
   ]
  },
  {
   "cell_type": "markdown",
   "id": "7017af87",
   "metadata": {},
   "source": [
    "2. $[lower:upper:step]$"
   ]
  },
  {
   "cell_type": "code",
   "execution_count": 37,
   "id": "98b05863",
   "metadata": {},
   "outputs": [
    {
     "data": {
      "text/plain": [
       "array([[1, 3, 5],\n",
       "       [7, 3, 5],\n",
       "       [1, 3, 5],\n",
       "       [9, 9, 5],\n",
       "       [1, 3, 5]])"
      ]
     },
     "execution_count": 37,
     "metadata": {},
     "output_type": "execute_result"
    }
   ],
   "source": [
    "a[:, ::2] # 取出0， 2， 4"
   ]
  },
  {
   "cell_type": "code",
   "execution_count": 38,
   "id": "fa6bdf0c",
   "metadata": {},
   "outputs": [
    {
     "data": {
      "text/plain": [
       "array([[6, 8],\n",
       "       [2, 4]])"
      ]
     },
     "execution_count": 38,
     "metadata": {},
     "output_type": "execute_result"
    }
   ],
   "source": [
    "\"\"\"\n",
    "取出\n",
    "[0, 1], [0, 3]\n",
    "[2, 1], [2, 3]\n",
    "\"\"\"\n",
    "a[0:3:2, 1:4:2]"
   ]
  },
  {
   "cell_type": "markdown",
   "id": "f121fe43",
   "metadata": {},
   "source": [
    "## 切片是引用"
   ]
  },
  {
   "cell_type": "markdown",
   "id": "49dace4f",
   "metadata": {},
   "source": [
    "指针指向内存中 $a$ 的区域，所以修改切片也修改了原数组,\n",
    "解决：`copy()`"
   ]
  },
  {
   "cell_type": "code",
   "execution_count": 39,
   "id": "1ae4159f",
   "metadata": {},
   "outputs": [
    {
     "data": {
      "text/plain": [
       "array([0, 1, 5, 6])"
      ]
     },
     "execution_count": 39,
     "metadata": {},
     "output_type": "execute_result"
    }
   ],
   "source": [
    "a = np.array([0, 1, 5, 6])\n",
    "a"
   ]
  },
  {
   "cell_type": "code",
   "execution_count": 40,
   "id": "acf9d416",
   "metadata": {},
   "outputs": [
    {
     "data": {
      "text/plain": [
       "array([    0, 10000,     5,     6])"
      ]
     },
     "execution_count": 40,
     "metadata": {},
     "output_type": "execute_result"
    }
   ],
   "source": [
    "b = a[0:3]\n",
    "b[1] = 10000\n",
    "a"
   ]
  },
  {
   "cell_type": "code",
   "execution_count": 41,
   "id": "fb1ed24b",
   "metadata": {},
   "outputs": [
    {
     "data": {
      "text/plain": [
       "array([    0, 10000,     5,     6])"
      ]
     },
     "execution_count": 41,
     "metadata": {},
     "output_type": "execute_result"
    }
   ],
   "source": [
    "c = a[0:3].copy()\n",
    "c[2] = 9999\n",
    "a"
   ]
  },
  {
   "cell_type": "markdown",
   "id": "7975ce66",
   "metadata": {},
   "source": [
    "## 花式索引"
   ]
  },
  {
   "cell_type": "markdown",
   "id": "1fffd4f0",
   "metadata": {},
   "source": [
    "1. 一维索引(索引数组取数)"
   ]
  },
  {
   "cell_type": "code",
   "execution_count": 42,
   "id": "1ab49818",
   "metadata": {},
   "outputs": [
    {
     "data": {
      "text/plain": [
       "array([ 0, 10, 20, 30, 40, 50, 60, 70, 80, 90])"
      ]
     },
     "execution_count": 42,
     "metadata": {},
     "output_type": "execute_result"
    }
   ],
   "source": [
    "a = np.arange(0, 100, 10)\n",
    "a"
   ]
  },
  {
   "cell_type": "markdown",
   "id": "61e1fe74",
   "metadata": {},
   "source": [
    "指定索引数组"
   ]
  },
  {
   "cell_type": "code",
   "execution_count": 43,
   "id": "8573124f",
   "metadata": {},
   "outputs": [
    {
     "data": {
      "text/plain": [
       "array([10, 20, 60])"
      ]
     },
     "execution_count": 43,
     "metadata": {},
     "output_type": "execute_result"
    }
   ],
   "source": [
    "index = [1, 2, 6]\n",
    "y = a[index]\n",
    "y"
   ]
  },
  {
   "cell_type": "markdown",
   "id": "583c07df",
   "metadata": {},
   "source": [
    "指定布尔数组(长度和数组长度相等)"
   ]
  },
  {
   "cell_type": "code",
   "execution_count": 44,
   "id": "7a24cbfe",
   "metadata": {},
   "outputs": [
    {
     "data": {
      "text/plain": [
       "array([10, 20, 50, 60, 70])"
      ]
     },
     "execution_count": 44,
     "metadata": {},
     "output_type": "execute_result"
    }
   ],
   "source": [
    "mask = np.array([0, 2, 3, 0, 0, 2, 2, 2, 0, 0], dtype=bool)\n",
    "a[mask]"
   ]
  },
  {
   "cell_type": "markdown",
   "id": "54013053",
   "metadata": {},
   "source": [
    "2. 二维索引"
   ]
  },
  {
   "cell_type": "code",
   "execution_count": 45,
   "id": "1a4b83ae",
   "metadata": {},
   "outputs": [
    {
     "data": {
      "text/plain": [
       "array([[ 1,  6,  3,  8, 77],\n",
       "       [ 7,  2,  3, 88,  5],\n",
       "       [ 1,  2, 99,  4,  5],\n",
       "       [ 9, 55,  9,  4,  5],\n",
       "       [33,  2,  3,  4,  5]])"
      ]
     },
     "execution_count": 45,
     "metadata": {},
     "output_type": "execute_result"
    }
   ],
   "source": [
    "a = np.array([\n",
    "    [1, 6, 3, 8, 77],\n",
    "    [7, 2, 3, 88, 5],\n",
    "    [1, 2, 99, 4, 5],\n",
    "    [9, 55, 9, 4, 5],\n",
    "    [33, 2, 3, 4, 5],\n",
    "    \n",
    "])\n",
    "a"
   ]
  },
  {
   "cell_type": "markdown",
   "id": "15169eb5",
   "metadata": {},
   "source": [
    "取出次对角线"
   ]
  },
  {
   "cell_type": "code",
   "execution_count": 46,
   "id": "2597b275",
   "metadata": {},
   "outputs": [
    {
     "data": {
      "text/plain": [
       "array([77, 88, 99, 55, 33])"
      ]
     },
     "execution_count": 46,
     "metadata": {},
     "output_type": "execute_result"
    }
   ],
   "source": [
    "a[(0, 1, 2, 3, 4), (4, 3, 2, 1, 0)]"
   ]
  },
  {
   "cell_type": "markdown",
   "id": "fc3c8724",
   "metadata": {},
   "source": [
    "取出最后三行的1，3，5列"
   ]
  },
  {
   "cell_type": "code",
   "execution_count": 47,
   "id": "8ea45a92",
   "metadata": {},
   "outputs": [
    {
     "data": {
      "text/plain": [
       "array([[ 9,  9,  5],\n",
       "       [33,  3,  5]])"
      ]
     },
     "execution_count": 47,
     "metadata": {},
     "output_type": "execute_result"
    }
   ],
   "source": [
    "a[3:, [0, 2, 4]]"
   ]
  },
  {
   "cell_type": "code",
   "execution_count": 48,
   "id": "6ca8ba2f",
   "metadata": {},
   "outputs": [
    {
     "data": {
      "text/plain": [
       "array([ 3, 99,  3])"
      ]
     },
     "execution_count": 48,
     "metadata": {},
     "output_type": "execute_result"
    }
   ],
   "source": [
    "mask = np.array([1, 0, 1, 0, 1], dtype=\"bool\")\n",
    "a[mask, 2]"
   ]
  },
  {
   "cell_type": "markdown",
   "id": "72337578",
   "metadata": {},
   "source": [
    "**花式索引返回复制,不是引用**"
   ]
  },
  {
   "cell_type": "markdown",
   "id": "d84c015e",
   "metadata": {},
   "source": [
    "##  不完全索引"
   ]
  },
  {
   "cell_type": "code",
   "execution_count": 49,
   "id": "f6cc9c64",
   "metadata": {},
   "outputs": [
    {
     "data": {
      "text/plain": [
       "array([[ 1,  6,  3,  8, 77],\n",
       "       [ 7,  2,  3, 88,  5],\n",
       "       [ 1,  2, 99,  4,  5]])"
      ]
     },
     "execution_count": 49,
     "metadata": {},
     "output_type": "execute_result"
    }
   ],
   "source": [
    "y = a[:3]\n",
    "y"
   ]
  },
  {
   "cell_type": "markdown",
   "id": "45369ff6",
   "metadata": {},
   "source": [
    "## `where` 索引"
   ]
  },
  {
   "cell_type": "markdown",
   "id": "e91ef34a",
   "metadata": {},
   "source": [
    "返回所有非零元素索引(返回元组)"
   ]
  },
  {
   "cell_type": "code",
   "execution_count": 50,
   "id": "578c9db3",
   "metadata": {},
   "outputs": [
    {
     "data": {
      "text/plain": [
       "(array([1, 2, 3, 6], dtype=int64),)"
      ]
     },
     "execution_count": 50,
     "metadata": {},
     "output_type": "execute_result"
    }
   ],
   "source": [
    "a = np.array([0, 5, 4, 1, 0, 0, 5])\n",
    "np.where(a)"
   ]
  },
  {
   "cell_type": "markdown",
   "id": "f123351f",
   "metadata": {},
   "source": [
    "返回特定条件(返回元组)"
   ]
  },
  {
   "cell_type": "code",
   "execution_count": 51,
   "id": "820c7b93",
   "metadata": {},
   "outputs": [
    {
     "data": {
      "text/plain": [
       "(array([1, 2, 6], dtype=int64),)"
      ]
     },
     "execution_count": 51,
     "metadata": {},
     "output_type": "execute_result"
    }
   ],
   "source": [
    "np.where(a > 1) # a > 1  => bool array "
   ]
  },
  {
   "cell_type": "code",
   "execution_count": 52,
   "id": "f85ae026",
   "metadata": {},
   "outputs": [
    {
     "data": {
      "text/plain": [
       "array([5, 4, 5])"
      ]
     },
     "execution_count": 52,
     "metadata": {},
     "output_type": "execute_result"
    }
   ],
   "source": [
    "a[np.where(a > 1)]"
   ]
  },
  {
   "cell_type": "markdown",
   "id": "8c8346fd",
   "metadata": {},
   "source": [
    "数组操作返回`array`"
   ]
  },
  {
   "cell_type": "code",
   "execution_count": 53,
   "id": "d327c19d",
   "metadata": {},
   "outputs": [
    {
     "data": {
      "text/plain": [
       "array([5, 4, 5])"
      ]
     },
     "execution_count": 53,
     "metadata": {},
     "output_type": "execute_result"
    }
   ],
   "source": [
    "a[a > 1]"
   ]
  },
  {
   "cell_type": "markdown",
   "id": "108c44c4",
   "metadata": {},
   "source": [
    "## 数据类型"
   ]
  },
  {
   "cell_type": "markdown",
   "id": "6c204139",
   "metadata": {},
   "source": [
    "## 类型转换"
   ]
  },
  {
   "cell_type": "markdown",
   "id": "3d3e0f8c",
   "metadata": {},
   "source": [
    "1. `dtype`"
   ]
  },
  {
   "cell_type": "code",
   "execution_count": 54,
   "id": "55ea81c0",
   "metadata": {},
   "outputs": [
    {
     "data": {
      "text/plain": [
       "array([1., 2., 5.])"
      ]
     },
     "execution_count": 54,
     "metadata": {},
     "output_type": "execute_result"
    }
   ],
   "source": [
    "a = np.array([1, 2, 5], dtype=float)\n",
    "a"
   ]
  },
  {
   "cell_type": "markdown",
   "id": "c06100bb",
   "metadata": {},
   "source": [
    "2. `asarray`"
   ]
  },
  {
   "cell_type": "code",
   "execution_count": 55,
   "id": "09e234de",
   "metadata": {},
   "outputs": [
    {
     "data": {
      "text/plain": [
       "array([1, 2, 5])"
      ]
     },
     "execution_count": 55,
     "metadata": {},
     "output_type": "execute_result"
    }
   ],
   "source": [
    "a = np.asarray(a, dtype=int)\n",
    "a"
   ]
  },
  {
   "cell_type": "markdown",
   "id": "5b8893ad",
   "metadata": {},
   "source": [
    "3. `astype`"
   ]
  },
  {
   "cell_type": "code",
   "execution_count": 56,
   "id": "8050fef8",
   "metadata": {},
   "outputs": [
    {
     "data": {
      "text/plain": [
       "array([1., 2., 5.])"
      ]
     },
     "execution_count": 56,
     "metadata": {},
     "output_type": "execute_result"
    }
   ],
   "source": [
    "b = a.astype(float)\n",
    "b"
   ]
  },
  {
   "cell_type": "markdown",
   "id": "24d541f4",
   "metadata": {},
   "source": [
    "## 数组排序"
   ]
  },
  {
   "cell_type": "code",
   "execution_count": 57,
   "id": "43eadfed",
   "metadata": {},
   "outputs": [
    {
     "data": {
      "text/plain": [
       "array([2, 5, 4, 8, 9, 7])"
      ]
     },
     "execution_count": 57,
     "metadata": {},
     "output_type": "execute_result"
    }
   ],
   "source": [
    "a = np.array([2, 5, 4, 8, 9, 7], dtype=int)\n",
    "a"
   ]
  },
  {
   "cell_type": "code",
   "execution_count": 58,
   "id": "89c2f235",
   "metadata": {},
   "outputs": [
    {
     "data": {
      "text/plain": [
       "array([2, 4, 5, 7, 8, 9])"
      ]
     },
     "execution_count": 58,
     "metadata": {},
     "output_type": "execute_result"
    }
   ],
   "source": [
    "np.sort(a)"
   ]
  },
  {
   "cell_type": "code",
   "execution_count": 59,
   "id": "8cf77ff4",
   "metadata": {},
   "outputs": [
    {
     "data": {
      "text/plain": [
       "array([2, 5, 4, 8, 9, 7])"
      ]
     },
     "execution_count": 59,
     "metadata": {},
     "output_type": "execute_result"
    }
   ],
   "source": [
    "a"
   ]
  },
  {
   "cell_type": "markdown",
   "id": "9391560b",
   "metadata": {},
   "source": [
    "> 注意是返回新数组"
   ]
  },
  {
   "cell_type": "markdown",
   "id": "f18b010c",
   "metadata": {},
   "source": [
    "`argsort`函数"
   ]
  },
  {
   "cell_type": "markdown",
   "id": "f39a49c3",
   "metadata": {},
   "source": [
    "`argsort`返回从小到大的排列在数组中的索引位置"
   ]
  },
  {
   "cell_type": "code",
   "execution_count": 60,
   "id": "c338c3ee",
   "metadata": {},
   "outputs": [
    {
     "data": {
      "text/plain": [
       "array([0, 2, 1, 5, 3, 4], dtype=int64)"
      ]
     },
     "execution_count": 60,
     "metadata": {},
     "output_type": "execute_result"
    }
   ],
   "source": [
    "order = np.argsort(a)\n",
    "order"
   ]
  },
  {
   "cell_type": "markdown",
   "id": "d4d84aae",
   "metadata": {},
   "source": [
    "## 数组整体操作"
   ]
  },
  {
   "cell_type": "markdown",
   "id": "26e9fbab",
   "metadata": {},
   "source": [
    "1. 和"
   ]
  },
  {
   "cell_type": "code",
   "execution_count": 61,
   "id": "dc2fdac2",
   "metadata": {},
   "outputs": [
    {
     "data": {
      "text/plain": [
       "35"
      ]
     },
     "execution_count": 61,
     "metadata": {},
     "output_type": "execute_result"
    }
   ],
   "source": [
    "np.sum(a)"
   ]
  },
  {
   "cell_type": "markdown",
   "id": "dc1bd59b",
   "metadata": {},
   "source": [
    "2. 极值"
   ]
  },
  {
   "cell_type": "code",
   "execution_count": 62,
   "id": "d21fd96e",
   "metadata": {},
   "outputs": [
    {
     "data": {
      "text/plain": [
       "9"
      ]
     },
     "execution_count": 62,
     "metadata": {},
     "output_type": "execute_result"
    }
   ],
   "source": [
    "np.max(a)"
   ]
  },
  {
   "cell_type": "code",
   "execution_count": 63,
   "id": "b689ffde",
   "metadata": {},
   "outputs": [
    {
     "data": {
      "text/plain": [
       "9"
      ]
     },
     "execution_count": 63,
     "metadata": {},
     "output_type": "execute_result"
    }
   ],
   "source": [
    "a.max()"
   ]
  },
  {
   "cell_type": "code",
   "execution_count": 64,
   "id": "1d7c0256",
   "metadata": {},
   "outputs": [
    {
     "data": {
      "text/plain": [
       "2"
      ]
     },
     "execution_count": 64,
     "metadata": {},
     "output_type": "execute_result"
    }
   ],
   "source": [
    "np.min(a)"
   ]
  },
  {
   "cell_type": "code",
   "execution_count": 65,
   "id": "0ed9b616",
   "metadata": {},
   "outputs": [
    {
     "data": {
      "text/plain": [
       "2"
      ]
     },
     "execution_count": 65,
     "metadata": {},
     "output_type": "execute_result"
    }
   ],
   "source": [
    "a.min()"
   ]
  },
  {
   "cell_type": "markdown",
   "id": "1811caf9",
   "metadata": {},
   "source": [
    "3. 均值"
   ]
  },
  {
   "cell_type": "code",
   "execution_count": 66,
   "id": "a72c1e69",
   "metadata": {},
   "outputs": [
    {
     "data": {
      "text/plain": [
       "5.833333333333333"
      ]
     },
     "execution_count": 66,
     "metadata": {},
     "output_type": "execute_result"
    }
   ],
   "source": [
    "a.mean()"
   ]
  },
  {
   "cell_type": "code",
   "execution_count": 67,
   "id": "b63efb26",
   "metadata": {},
   "outputs": [
    {
     "data": {
      "text/plain": [
       "5.833333333333333"
      ]
     },
     "execution_count": 67,
     "metadata": {},
     "output_type": "execute_result"
    }
   ],
   "source": [
    "np.mean(a)"
   ]
  },
  {
   "cell_type": "markdown",
   "id": "61b3ce0c",
   "metadata": {},
   "source": [
    "4. 标准差"
   ]
  },
  {
   "cell_type": "code",
   "execution_count": 68,
   "id": "ae86ef09",
   "metadata": {},
   "outputs": [
    {
     "data": {
      "text/plain": [
       "2.4094720491334933"
      ]
     },
     "execution_count": 68,
     "metadata": {},
     "output_type": "execute_result"
    }
   ],
   "source": [
    "np.std(a)"
   ]
  },
  {
   "cell_type": "code",
   "execution_count": 69,
   "id": "c3f327b8",
   "metadata": {},
   "outputs": [
    {
     "data": {
      "text/plain": [
       "2.4094720491334933"
      ]
     },
     "execution_count": 69,
     "metadata": {},
     "output_type": "execute_result"
    }
   ],
   "source": [
    "np.std(a)"
   ]
  },
  {
   "cell_type": "markdown",
   "id": "470af17d",
   "metadata": {},
   "source": [
    "5. 相关系数矩阵 $cov(X, Y)$"
   ]
  },
  {
   "cell_type": "code",
   "execution_count": 70,
   "id": "9187e283",
   "metadata": {},
   "outputs": [
    {
     "data": {
      "text/plain": [
       "array([2, 5, 4, 8, 9, 7])"
      ]
     },
     "execution_count": 70,
     "metadata": {},
     "output_type": "execute_result"
    }
   ],
   "source": [
    "a = np.array([2, 5, 4, 8, 9, 7], dtype=int)\n",
    "a"
   ]
  },
  {
   "cell_type": "code",
   "execution_count": 71,
   "id": "c8ed1e93",
   "metadata": {},
   "outputs": [
    {
     "data": {
      "text/plain": [
       "array([1, 2, 3, 4, 5, 4])"
      ]
     },
     "execution_count": 71,
     "metadata": {},
     "output_type": "execute_result"
    }
   ],
   "source": [
    "b = np.array([1, 2, 3, 4, 5, 4], dtype=int)\n",
    "b"
   ]
  },
  {
   "cell_type": "code",
   "execution_count": 72,
   "id": "2cfb1023",
   "metadata": {},
   "outputs": [
    {
     "data": {
      "text/plain": [
       "array([[6.96666667, 3.63333333],\n",
       "       [3.63333333, 2.16666667]])"
      ]
     },
     "execution_count": 72,
     "metadata": {},
     "output_type": "execute_result"
    }
   ],
   "source": [
    "np.cov(a, b)"
   ]
  },
  {
   "cell_type": "markdown",
   "id": "db157dbd",
   "metadata": {},
   "source": [
    "## 多维数组操作"
   ]
  },
  {
   "cell_type": "markdown",
   "id": "48a1387f",
   "metadata": {},
   "source": [
    "1. 数组形状"
   ]
  },
  {
   "cell_type": "code",
   "execution_count": 75,
   "id": "287d2bd1",
   "metadata": {},
   "outputs": [
    {
     "data": {
      "text/plain": [
       "array([0, 1, 2, 3, 4, 5])"
      ]
     },
     "execution_count": 75,
     "metadata": {},
     "output_type": "execute_result"
    }
   ],
   "source": [
    "a = np.arange(6)\n",
    "a"
   ]
  },
  {
   "cell_type": "code",
   "execution_count": 78,
   "id": "3b30af8e",
   "metadata": {},
   "outputs": [
    {
     "data": {
      "text/plain": [
       "array([[0, 1, 2],\n",
       "       [3, 4, 5]])"
      ]
     },
     "execution_count": 78,
     "metadata": {},
     "output_type": "execute_result"
    }
   ],
   "source": [
    "a.shape = 2, 3\n",
    "a"
   ]
  },
  {
   "cell_type": "markdown",
   "id": "7ab4c67c",
   "metadata": {},
   "source": [
    "> 修改原数组"
   ]
  },
  {
   "cell_type": "code",
   "execution_count": 81,
   "id": "6d5dea0e",
   "metadata": {},
   "outputs": [
    {
     "data": {
      "text/plain": [
       "array([[0, 1, 2],\n",
       "       [3, 4, 5]])"
      ]
     },
     "execution_count": 81,
     "metadata": {},
     "output_type": "execute_result"
    }
   ],
   "source": [
    "b = a.reshape(2, 3)\n",
    "b"
   ]
  },
  {
   "cell_type": "markdown",
   "id": "53e32bcd",
   "metadata": {},
   "source": [
    "2. 转置"
   ]
  },
  {
   "cell_type": "code",
   "execution_count": 83,
   "id": "abd8a39d",
   "metadata": {},
   "outputs": [
    {
     "name": "stdout",
     "output_type": "stream",
     "text": [
      "[[0 1 2]\n",
      " [3 4 5]]\n",
      "********************\n",
      "[[0 3]\n",
      " [1 4]\n",
      " [2 5]]\n"
     ]
    }
   ],
   "source": [
    "print(a)\n",
    "print('*'*20)\n",
    "print(a.T)"
   ]
  },
  {
   "cell_type": "code",
   "execution_count": 85,
   "id": "e13c31ad",
   "metadata": {},
   "outputs": [
    {
     "data": {
      "text/plain": [
       "array([[0, 3],\n",
       "       [1, 4],\n",
       "       [2, 5]])"
      ]
     },
     "execution_count": 85,
     "metadata": {},
     "output_type": "execute_result"
    }
   ],
   "source": [
    "a.transpose()"
   ]
  },
  {
   "cell_type": "code",
   "execution_count": 86,
   "id": "b2ce032b",
   "metadata": {},
   "outputs": [
    {
     "data": {
      "text/plain": [
       "array([[0, 1, 2],\n",
       "       [3, 4, 5]])"
      ]
     },
     "execution_count": 86,
     "metadata": {},
     "output_type": "execute_result"
    }
   ],
   "source": [
    "a"
   ]
  },
  {
   "cell_type": "markdown",
   "id": "1a8dbfc3",
   "metadata": {},
   "source": [
    "> 原数组不变"
   ]
  },
  {
   "cell_type": "markdown",
   "id": "71631a5b",
   "metadata": {},
   "source": [
    "## 数组连接"
   ]
  },
  {
   "cell_type": "code",
   "execution_count": 87,
   "id": "ffe248ca",
   "metadata": {},
   "outputs": [],
   "source": [
    "x = np.array([[0, 1, 2], [2, 3, 4]])\n",
    "y = np.array([[2, 5, 6], [5, 6, 7]])"
   ]
  },
  {
   "cell_type": "markdown",
   "id": "b5145430",
   "metadata": {},
   "source": [
    "**将两个数组包裹在一个元组当中**"
   ]
  },
  {
   "cell_type": "code",
   "execution_count": 90,
   "id": "303244ec",
   "metadata": {},
   "outputs": [
    {
     "data": {
      "text/plain": [
       "array([[0, 1, 2],\n",
       "       [2, 3, 4],\n",
       "       [2, 5, 6],\n",
       "       [5, 6, 7]])"
      ]
     },
     "execution_count": 90,
     "metadata": {},
     "output_type": "execute_result"
    }
   ],
   "source": [
    "z = np.concatenate((x, y))  # 默认沿着第一维进行连接\n",
    "z"
   ]
  },
  {
   "cell_type": "code",
   "execution_count": 91,
   "id": "b4accae3",
   "metadata": {},
   "outputs": [
    {
     "data": {
      "text/plain": [
       "array([[0, 1, 2, 2, 5, 6],\n",
       "       [2, 3, 4, 5, 6, 7]])"
      ]
     },
     "execution_count": 91,
     "metadata": {},
     "output_type": "execute_result"
    }
   ],
   "source": [
    "z = np.concatenate((x, y), axis=1)  # 指定沿着第二维连接\n",
    "z"
   ]
  },
  {
   "cell_type": "markdown",
   "id": "047f6340",
   "metadata": {},
   "source": [
    "增加维度拼接"
   ]
  },
  {
   "cell_type": "code",
   "execution_count": 93,
   "id": "7c622b60",
   "metadata": {},
   "outputs": [
    {
     "data": {
      "text/plain": [
       "array([[[0, 1, 2],\n",
       "        [2, 3, 4]],\n",
       "\n",
       "       [[2, 5, 6],\n",
       "        [5, 6, 7]]])"
      ]
     },
     "execution_count": 93,
     "metadata": {},
     "output_type": "execute_result"
    }
   ],
   "source": [
    "z = np.array((x, y))  # 将两个形状相同二维数组拼接成三维数组 （摞一起）\n",
    "z"
   ]
  },
  {
   "cell_type": "code",
   "execution_count": 94,
   "id": "a8200475",
   "metadata": {},
   "outputs": [
    {
     "data": {
      "text/plain": [
       "array([[0, 1, 2],\n",
       "       [2, 3, 4],\n",
       "       [2, 5, 6],\n",
       "       [5, 6, 7]])"
      ]
     },
     "execution_count": 94,
     "metadata": {},
     "output_type": "execute_result"
    }
   ],
   "source": [
    "np.vstack((x,y))"
   ]
  },
  {
   "cell_type": "code",
   "execution_count": 95,
   "id": "86793eb9",
   "metadata": {},
   "outputs": [
    {
     "data": {
      "text/plain": [
       "array([[0, 1, 2, 2, 5, 6],\n",
       "       [2, 3, 4, 5, 6, 7]])"
      ]
     },
     "execution_count": 95,
     "metadata": {},
     "output_type": "execute_result"
    }
   ],
   "source": [
    "np.hstack((x, y))"
   ]
  },
  {
   "cell_type": "code",
   "execution_count": 96,
   "id": "14a10a2a",
   "metadata": {},
   "outputs": [
    {
     "data": {
      "text/plain": [
       "array([[[0, 2],\n",
       "        [1, 5],\n",
       "        [2, 6]],\n",
       "\n",
       "       [[2, 5],\n",
       "        [3, 6],\n",
       "        [4, 7]]])"
      ]
     },
     "execution_count": 96,
     "metadata": {},
     "output_type": "execute_result"
    }
   ],
   "source": [
    "np.dstack((x, y))"
   ]
  },
  {
   "cell_type": "markdown",
   "id": "d1cb7583",
   "metadata": {},
   "source": [
    "## 一些内置函数"
   ]
  },
  {
   "cell_type": "code",
   "execution_count": 99,
   "id": "93584254",
   "metadata": {},
   "outputs": [
    {
     "data": {
      "text/plain": [
       "array([-1, -5,  5, 10])"
      ]
     },
     "execution_count": 99,
     "metadata": {},
     "output_type": "execute_result"
    }
   ],
   "source": [
    "a = np.array([-1, -5, 5, 10])\n",
    "a"
   ]
  },
  {
   "cell_type": "code",
   "execution_count": 101,
   "id": "1812c9ef",
   "metadata": {},
   "outputs": [
    {
     "data": {
      "text/plain": [
       "array([ 1,  5,  5, 10])"
      ]
     },
     "execution_count": 101,
     "metadata": {},
     "output_type": "execute_result"
    }
   ],
   "source": [
    "np.abs(a)"
   ]
  },
  {
   "cell_type": "code",
   "execution_count": 102,
   "id": "6636f87a",
   "metadata": {},
   "outputs": [
    {
     "data": {
      "text/plain": [
       "array([3.67879441e-01, 6.73794700e-03, 1.48413159e+02, 2.20264658e+04])"
      ]
     },
     "execution_count": 102,
     "metadata": {},
     "output_type": "execute_result"
    }
   ],
   "source": [
    "np.exp(a)"
   ]
  },
  {
   "cell_type": "code",
   "execution_count": 103,
   "id": "44db0643",
   "metadata": {},
   "outputs": [
    {
     "data": {
      "text/plain": [
       "2.0"
      ]
     },
     "execution_count": 103,
     "metadata": {},
     "output_type": "execute_result"
    }
   ],
   "source": [
    "np.median(a)"
   ]
  },
  {
   "cell_type": "code",
   "execution_count": 106,
   "id": "aa06fc24",
   "metadata": {
    "scrolled": true
   },
   "outputs": [
    {
     "data": {
      "text/plain": [
       "array([-1, -6, -1,  9], dtype=int32)"
      ]
     },
     "execution_count": 106,
     "metadata": {},
     "output_type": "execute_result"
    }
   ],
   "source": [
    "np.cumsum(a)  # 加到当前位的加和结果"
   ]
  },
  {
   "cell_type": "markdown",
   "id": "c292949b",
   "metadata": {},
   "source": [
    "查文档"
   ]
  }
 ],
 "metadata": {
  "kernelspec": {
   "display_name": "Python 3 (ipykernel)",
   "language": "python",
   "name": "python3"
  },
  "language_info": {
   "codemirror_mode": {
    "name": "ipython",
    "version": 3
   },
   "file_extension": ".py",
   "mimetype": "text/x-python",
   "name": "python",
   "nbconvert_exporter": "python",
   "pygments_lexer": "ipython3",
   "version": "3.9.13"
  }
 },
 "nbformat": 4,
 "nbformat_minor": 5
}
